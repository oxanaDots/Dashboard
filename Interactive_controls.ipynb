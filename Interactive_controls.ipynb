{
 "cells": [
  {
   "cell_type": "code",
   "execution_count": 19,
   "id": "56aa7603-a63d-4c79-96ec-9c3e752b89be",
   "metadata": {},
   "outputs": [],
   "source": [
    "from IPython.display import clear_output\n",
    "import ipywidgets as wdg\n",
    "import pandas as pd\n",
    "import matplotlib.pyplot as plt\n",
    "\n",
    "%matplotlib inline\n",
    "# make figures larger\n",
    "plt.rcParams['figure.dpi'] = 100"
   ]
  },
  {
   "cell_type": "code",
   "execution_count": 3,
   "id": "63693ee2-2f6f-436e-be8c-6fb6e1a81cb9",
   "metadata": {},
   "outputs": [
    {
     "data": {
      "application/vnd.jupyter.widget-view+json": {
       "model_id": "10f75866a07440ebaa630b051f141ee3",
       "version_major": 2,
       "version_minor": 0
      },
      "text/plain": [
       "Button(description='Refresh data', icon='download', style=ButtonStyle(), tooltip='Click to download current Pu…"
      ]
     },
     "metadata": {},
     "output_type": "display_data"
    }
   ],
   "source": [
    "# our API access function. This will be called by the button when it is clicked\n",
    "def access_api(button):\n",
    "    # Ignore the button parameter\n",
    "    #\n",
    "    # put code for polling the API here\n",
    "    #\n",
    "    # after all is done, you can switch the icon on the button to a \"check\" sign\n",
    "    # and optionally disable the button - it won't be needed again.\n",
    "    apibutton.icon=\"check\"\n",
    "    apibutton.disabled=True\n",
    "\n",
    "# see the doc for the parameters    \n",
    "apibutton=wdg.Button(\n",
    "    description='Refresh data',\n",
    "    disabled=False,\n",
    "    button_style='', # 'success', 'info', 'warning', 'danger' or ''\n",
    "    tooltip='Click to download current Public Health England data',\n",
    "    icon='download' # (FontAwesome names without the `fa-` prefix)\n",
    ")\n",
    "\n",
    "# register the callback function with the button\n",
    "apibutton.on_click(access_api)\n",
    "\n",
    "# this is an iPython function that generalises print for Jupyter Notebooks; we use it to \n",
    "# display the widgets\n",
    "display(apibutton)"
   ]
  },
  {
   "cell_type": "code",
   "execution_count": 2,
   "id": "05eea3bd-0a51-4965-b002-3374996404ef",
   "metadata": {},
   "outputs": [],
   "source": [
    "lineagedf=pd.read_pickle(\"lineagedf.pkl\")"
   ]
  },
  {
   "cell_type": "code",
   "execution_count": 8,
   "id": "e28a62de-692f-4cb6-ab86-fb5b06234032",
   "metadata": {},
   "outputs": [
    {
     "data": {
      "application/vnd.jupyter.widget-view+json": {
       "model_id": "0ef8411394eb45eab01a6e14a6e8f1da",
       "version_major": 2,
       "version_minor": 0
      },
      "text/plain": [
       "Select(description='Year', index=3, options=(2021, 2022, 2023, 2024), rows=1, value=2024)"
      ]
     },
     "metadata": {},
     "output_type": "display_data"
    },
    {
     "data": {
      "application/vnd.jupyter.widget-view+json": {
       "model_id": "63a0395296714acc897f3dddfb4c511b",
       "version_major": 2,
       "version_minor": 0
      },
      "text/plain": [
       "Output()"
      ]
     },
     "metadata": {},
     "output_type": "display_data"
    }
   ],
   "source": [
    "year=wdg.Select(\n",
    "    # options available: unique years in the dataframe\n",
    "    options=lineagedf.index.year.unique(), # options available\n",
    "    value=lineagedf.index.year[-1], # initial value: most recent year\n",
    "    rows=1, # rows of the selection box\n",
    "    description='Year',\n",
    "    disabled=False\n",
    ")\n",
    "\n",
    "def lineage_graph(graphyear):\n",
    "    # our callback function.\n",
    "    yeardf=lineagedf[lineagedf.index.year==graphyear]\n",
    "    # average the rows by month\n",
    "    monthly= yeardf.groupby(pd.Grouper(freq='1M')).mean() \n",
    "    totals=monthly.sum(axis=1) # over the rows\n",
    "    # make sure it's all normalised to 100\n",
    "    monthly=monthly.div(totals, axis=0)*100\n",
    "    # older dates on top of the graph\n",
    "    monthly = monthly[::-1]\n",
    "    ax=monthly.plot(kind='barh', stacked=True,cmap='tab20')\n",
    "    ax.legend(loc='center left',bbox_to_anchor=(1.0, 0.5))\n",
    "    ax.set_yticklabels(monthly.index.strftime('%Y-%m-%d'))\n",
    "    \n",
    "# keep calling age_graph(graphcolumns=value_of_agecols); capture output in widget output    \n",
    "output=wdg.interactive_output(lineage_graph, {'graphyear': year})\n",
    "\n",
    "display(year, output)"
   ]
  },
  {
   "cell_type": "code",
   "execution_count": 21,
   "id": "6ac184c3-b73c-4b31-b036-6e442e38e3d1",
   "metadata": {},
   "outputs": [
    {
     "name": "stdout",
     "output_type": "stream",
     "text": [
      "            cases admissions deaths\n",
      "2020-01-30    1.0        0.0    1.0\n",
      "2020-01-31    0.0        0.0    0.0\n",
      "2020-02-01    0.0        0.0    0.0\n",
      "2020-02-02    1.0        0.0    1.0\n",
      "2020-02-03   18.0        0.0    0.0\n",
      "...           ...        ...    ...\n",
      "2024-11-09  149.0        0.0    0.0\n",
      "2024-11-10  140.0        0.0    0.0\n",
      "2024-11-11  143.0        0.0    0.0\n",
      "2024-11-12  110.0        0.0    0.0\n",
      "2024-11-13   40.0        0.0    0.0\n",
      "\n",
      "[1750 rows x 3 columns]\n"
     ]
    },
    {
     "data": {
      "application/vnd.jupyter.widget-view+json": {
       "model_id": "d6743bb32620463a93d482500d8ad54b",
       "version_major": 2,
       "version_minor": 0
      },
      "text/plain": [
       "VBox(children=(SelectMultiple(description='Stats:', index=(0, 1, 2), layout=Layout(border_bottom='none', borde…"
      ]
     },
     "metadata": {},
     "output_type": "display_data"
    },
    {
     "data": {
      "application/vnd.jupyter.widget-view+json": {
       "model_id": "0c874a3aaa9c4bd79d441a7c2165dff1",
       "version_major": 2,
       "version_minor": 0
      },
      "text/plain": [
       "Output()"
      ]
     },
     "metadata": {},
     "output_type": "display_data"
    }
   ],
   "source": [
    "timeseriesdf=pd.read_pickle(\"timeseriesdf.pkl\")\n",
    "\n",
    "print(timeseriesdf)\n",
    "series=wdg.SelectMultiple(\n",
    "    options=['cases', 'admissions', 'deaths'],\n",
    "    value=['cases', 'admissions', 'deaths'],\n",
    "    rows=3,\n",
    "    description='Stats:',\n",
    "    disabled=False,\n",
    "    layout=wdg.Layout(\n",
    "        width='300px',      \n",
    "        height='auto',     \n",
    "        border='none',  \n",
    "        margin=\"10px\"\n",
    "    ),\n",
    "     style={'description_width': '100px'}\n",
    ")\n",
    "\n",
    "scale=wdg.RadioButtons(\n",
    "    options=['linear', 'log'],\n",
    "#   value='pineapple', # Defaults to 'pineapple'\n",
    "#   layout={'width': 'max-content'}, # If the items' names are long\n",
    "    description='Scale:',\n",
    "    disabled=False\n",
    ")\n",
    "\n",
    "# try replacing HBox with a VBox\n",
    "controls=wdg.VBox([series, scale])\n",
    "\n",
    "def timeseries_graph(gcols, gscale):\n",
    "    if gscale=='linear':\n",
    "        logscale=False\n",
    "    else:\n",
    "        logscale=True\n",
    "    ncols=len(gcols)\n",
    "    if ncols>0:\n",
    "        timeseriesdf[list(gcols)].plot(logy=logscale)\n",
    "        plt.show() # important - graphs won't update if this is missing \n",
    "    else:\n",
    "        print(\"Click to select data for graph\")\n",
    "        print(\"(CTRL-Click to select more than one category)\")\n",
    "\n",
    "# keep calling timeseries_graph(gcols=value_of_series, gscale=value_of_scale); \n",
    "# capture output in widget graph   \n",
    "graph=wdg.interactive_output(timeseries_graph, {'gcols': series, 'gscale': scale})\n",
    "\n",
    "display(controls, graph)"
   ]
  },
  {
   "cell_type": "code",
   "execution_count": null,
   "id": "3188911d-506f-45c2-a0ff-f27758ecbf33",
   "metadata": {},
   "outputs": [],
   "source": []
  }
 ],
 "metadata": {
  "kernelspec": {
   "display_name": "Python 3 (ipykernel)",
   "language": "python",
   "name": "python3"
  },
  "language_info": {
   "codemirror_mode": {
    "name": "ipython",
    "version": 3
   },
   "file_extension": ".py",
   "mimetype": "text/x-python",
   "name": "python",
   "nbconvert_exporter": "python",
   "pygments_lexer": "ipython3",
   "version": "3.11.9"
  }
 },
 "nbformat": 4,
 "nbformat_minor": 5
}
