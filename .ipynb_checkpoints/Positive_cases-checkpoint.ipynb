{
 "cells": [
  {
   "cell_type": "code",
   "execution_count": 1,
   "id": "6b2d2e00-a2f4-4060-ada0-98419ebe1396",
   "metadata": {},
   "outputs": [
    {
     "name": "stdout",
     "output_type": "stream",
     "text": [
      "Requirement already satisfied: import-ipynb in /opt/conda/lib/python3.11/site-packages (0.2)\n",
      "Requirement already satisfied: IPython in /opt/conda/lib/python3.11/site-packages (from import-ipynb) (8.27.0)\n",
      "Requirement already satisfied: nbformat in /opt/conda/lib/python3.11/site-packages (from import-ipynb) (5.10.4)\n",
      "Requirement already satisfied: decorator in /opt/conda/lib/python3.11/site-packages (from IPython->import-ipynb) (5.1.1)\n",
      "Requirement already satisfied: jedi>=0.16 in /opt/conda/lib/python3.11/site-packages (from IPython->import-ipynb) (0.19.1)\n",
      "Requirement already satisfied: matplotlib-inline in /opt/conda/lib/python3.11/site-packages (from IPython->import-ipynb) (0.1.7)\n",
      "Requirement already satisfied: prompt-toolkit<3.1.0,>=3.0.41 in /opt/conda/lib/python3.11/site-packages (from IPython->import-ipynb) (3.0.47)\n",
      "Requirement already satisfied: pygments>=2.4.0 in /opt/conda/lib/python3.11/site-packages (from IPython->import-ipynb) (2.18.0)\n",
      "Requirement already satisfied: stack-data in /opt/conda/lib/python3.11/site-packages (from IPython->import-ipynb) (0.6.2)\n",
      "Requirement already satisfied: traitlets>=5.13.0 in /opt/conda/lib/python3.11/site-packages (from IPython->import-ipynb) (5.14.3)\n",
      "Requirement already satisfied: typing-extensions>=4.6 in /opt/conda/lib/python3.11/site-packages (from IPython->import-ipynb) (4.12.2)\n",
      "Requirement already satisfied: pexpect>4.3 in /opt/conda/lib/python3.11/site-packages (from IPython->import-ipynb) (4.9.0)\n",
      "Requirement already satisfied: fastjsonschema>=2.15 in /opt/conda/lib/python3.11/site-packages (from nbformat->import-ipynb) (2.20.0)\n",
      "Requirement already satisfied: jsonschema>=2.6 in /opt/conda/lib/python3.11/site-packages (from nbformat->import-ipynb) (4.23.0)\n",
      "Requirement already satisfied: jupyter-core!=5.0.*,>=4.12 in /opt/conda/lib/python3.11/site-packages (from nbformat->import-ipynb) (5.7.2)\n",
      "Requirement already satisfied: parso<0.9.0,>=0.8.3 in /opt/conda/lib/python3.11/site-packages (from jedi>=0.16->IPython->import-ipynb) (0.8.4)\n",
      "Requirement already satisfied: attrs>=22.2.0 in /opt/conda/lib/python3.11/site-packages (from jsonschema>=2.6->nbformat->import-ipynb) (24.2.0)\n",
      "Requirement already satisfied: jsonschema-specifications>=2023.03.6 in /opt/conda/lib/python3.11/site-packages (from jsonschema>=2.6->nbformat->import-ipynb) (2023.12.1)\n",
      "Requirement already satisfied: referencing>=0.28.4 in /opt/conda/lib/python3.11/site-packages (from jsonschema>=2.6->nbformat->import-ipynb) (0.35.1)\n",
      "Requirement already satisfied: rpds-py>=0.7.1 in /opt/conda/lib/python3.11/site-packages (from jsonschema>=2.6->nbformat->import-ipynb) (0.20.0)\n",
      "Requirement already satisfied: platformdirs>=2.5 in /opt/conda/lib/python3.11/site-packages (from jupyter-core!=5.0.*,>=4.12->nbformat->import-ipynb) (4.3.2)\n",
      "Requirement already satisfied: ptyprocess>=0.5 in /opt/conda/lib/python3.11/site-packages (from pexpect>4.3->IPython->import-ipynb) (0.7.0)\n",
      "Requirement already satisfied: wcwidth in /opt/conda/lib/python3.11/site-packages (from prompt-toolkit<3.1.0,>=3.0.41->IPython->import-ipynb) (0.2.13)\n",
      "Requirement already satisfied: executing>=1.2.0 in /opt/conda/lib/python3.11/site-packages (from stack-data->IPython->import-ipynb) (2.1.0)\n",
      "Requirement already satisfied: asttokens>=2.1.0 in /opt/conda/lib/python3.11/site-packages (from stack-data->IPython->import-ipynb) (2.4.1)\n",
      "Requirement already satisfied: pure-eval in /opt/conda/lib/python3.11/site-packages (from stack-data->IPython->import-ipynb) (0.2.3)\n",
      "Requirement already satisfied: six>=1.12.0 in /opt/conda/lib/python3.11/site-packages (from asttokens>=2.1.0->stack-data->IPython->import-ipynb) (1.16.0)\n",
      "Note: you may need to restart the kernel to use updated packages.\n"
     ]
    }
   ],
   "source": [
    "pip install import-ipynb\n"
   ]
  },
  {
   "cell_type": "code",
   "execution_count": 2,
   "id": "3d865f66-a4c6-4b32-af4b-6f213c6e192d",
   "metadata": {},
   "outputs": [],
   "source": [
    "import pandas as pd\n",
    "import matplotlib.pyplot as plt\n",
    "import matplotlib.dates as mdates\n",
    "import json\n",
    "# an iPython  \"magic\" that enables the embedding of matplotlib output\n",
    "%matplotlib inline\n",
    "# make figures larger\n",
    "plt.rcParams['figure.dpi'] = 100"
   ]
  },
  {
   "cell_type": "code",
   "execution_count": 3,
   "id": "397abe0d-e13e-4045-bde6-eb17eb02db97",
   "metadata": {},
   "outputs": [],
   "source": [
    "\n",
    "with open(\"positive_cases.json\", \"rt\") as INFILE:\n",
    "    positive_cases=json.load(INFILE)\n",
    "\n",
    "# print(positive_cases)\n"
   ]
  },
  {
   "cell_type": "code",
   "execution_count": 4,
   "id": "853663a5-0a03-4164-b1b2-7494617e808b",
   "metadata": {},
   "outputs": [
    {
     "ename": "IndentationError",
     "evalue": "unexpected indent (<string>, line 34)",
     "output_type": "error",
     "traceback": [
      "Traceback \u001b[0;36m(most recent call last)\u001b[0m:\n",
      "\u001b[0m  File \u001b[1;32m/opt/conda/lib/python3.11/site-packages/IPython/core/interactiveshell.py:3577\u001b[0m in \u001b[1;35mrun_code\u001b[0m\n    exec(code_obj, self.user_global_ns, self.user_ns)\u001b[0m\n",
      "\u001b[0m  Cell \u001b[1;32mIn[4], line 2\u001b[0m\n    from utility_functions import define_dates, parse_date, plot_for_year\u001b[0m\n",
      "\u001b[0m  File \u001b[1;32m<frozen importlib._bootstrap>:1176\u001b[0m in \u001b[1;35m_find_and_load\u001b[0m\n",
      "\u001b[0m  File \u001b[1;32m<frozen importlib._bootstrap>:1147\u001b[0m in \u001b[1;35m_find_and_load_unlocked\u001b[0m\n",
      "\u001b[0m  File \u001b[1;32m<frozen importlib._bootstrap>:690\u001b[0m in \u001b[1;35m_load_unlocked\u001b[0m\n",
      "\u001b[0;36m  File \u001b[0;32m/opt/conda/lib/python3.11/site-packages/import_ipynb.py:64\u001b[0;36m in \u001b[0;35mexec_module\u001b[0;36m\n\u001b[0;31m    exec(code, mod.__dict__)\u001b[0;36m\n",
      "\u001b[0;36m  File \u001b[0;32m<string>:34\u001b[0;36m\u001b[0m\n\u001b[0;31m    if plot_age and 'age' in timeseriesdf.columns:\u001b[0m\n\u001b[0m    ^\u001b[0m\n\u001b[0;31mIndentationError\u001b[0m\u001b[0;31m:\u001b[0m unexpected indent\n"
     ]
    }
   ],
   "source": [
    "import import_ipynb\n",
    "from utility_functions import define_dates, parse_date, plot_for_year\n",
    "\n",
    "\n",
    "data = define_dates(positive_cases)\n",
    "dates=list(data.keys())\n",
    "dates.sort()\n",
    "dates\n",
    "# print(data)\n",
    "\n",
    "\n",
    "\n",
    "\n",
    "startdate=parse_date(dates[0])\n",
    "enddate=parse_date(dates[-1])\n",
    "print (startdate, ' to ', enddate)\n",
    "\n",
    "index=pd.date_range(startdate, enddate, freq='D')\n",
    "\n",
    "timeseriesdf=pd.DataFrame(index=index, columns=['positive_cases'])\n",
    "\n",
    "print(timeseriesdf)\n"
   ]
  },
  {
   "cell_type": "code",
   "execution_count": null,
   "id": "ae4c1391-3e6f-43e1-9d7f-48c1b638a49d",
   "metadata": {},
   "outputs": [],
   "source": [
    "\n",
    "\n",
    "import pandas as pd\n",
    "import matplotlib.pyplot as plt\n",
    "import matplotlib.dates as mdates\n",
    "from ipywidgets import interact, widgets\n",
    "\n",
    "df_data = {\n",
    "    parse_date(date): metrics['influenza_testing_positivityByWeek']\n",
    "    for date, metrics in data.items()\n",
    "}\n",
    "# print(df_data)\n",
    "\n",
    "\n",
    "timeseriesdf = pd.DataFrame(list(df_data.items()), columns=['date', 'positivity_rate'])\n",
    "timeseriesdf.set_index('date', inplace=True)\n",
    "\n",
    "\n",
    "years = sorted(timeseriesdf.index.year.unique())\n",
    "interact(plot_for_year, year=widgets.Dropdown(options=years, value=2024, description='Year:'), title=widgets.fixed(\"Influenza Positivity Rate\"), \n",
    "timeseriesdf=widgets.fixed(timeseriesdf))\n",
    "\n",
    "\n",
    "\n",
    "\n",
    "\n",
    "\n",
    "\n",
    "\n",
    "\n",
    "\n",
    "\n"
   ]
  },
  {
   "cell_type": "code",
   "execution_count": null,
   "id": "2ebe1224-fa5d-46dd-9440-38dfd9c1cfa8",
   "metadata": {},
   "outputs": [],
   "source": []
  },
  {
   "cell_type": "code",
   "execution_count": null,
   "id": "a70e5830-9c04-4388-9e2f-149394b8a6db",
   "metadata": {},
   "outputs": [],
   "source": [
    "# pandas makes saving to a pickle file dead easy:\n",
    "timeseriesdf.to_pickle(\"timeseriesdf.pkl\")\n"
   ]
  },
  {
   "cell_type": "code",
   "execution_count": null,
   "id": "54dedfe8-ec97-41a3-aed8-f5e761c35a27",
   "metadata": {},
   "outputs": [],
   "source": []
  },
  {
   "cell_type": "code",
   "execution_count": null,
   "id": "98f4a382-5c43-4820-8e19-c2774967e84e",
   "metadata": {},
   "outputs": [],
   "source": []
  }
 ],
 "metadata": {
  "kernelspec": {
   "display_name": "Python 3 (ipykernel)",
   "language": "python",
   "name": "python3"
  },
  "language_info": {
   "codemirror_mode": {
    "name": "ipython",
    "version": 3
   },
   "file_extension": ".py",
   "mimetype": "text/x-python",
   "name": "python",
   "nbconvert_exporter": "python",
   "pygments_lexer": "ipython3",
   "version": "3.11.9"
  }
 },
 "nbformat": 4,
 "nbformat_minor": 5
}
