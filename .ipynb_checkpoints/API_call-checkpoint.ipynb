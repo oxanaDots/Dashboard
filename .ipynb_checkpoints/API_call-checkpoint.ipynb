{
 "cells": [
  {
   "cell_type": "code",
   "execution_count": 1,
   "id": "17fdb389-bd03-4c33-9d9e-94baf69be7b8",
   "metadata": {},
   "outputs": [
    {
     "name": "stdout",
     "output_type": "stream",
     "text": [
      "--2024-11-20 22:11:56--  https://api.ukhsa-dashboard.data.gov.uk/themes/infectious_disease/sub_themes/respiratory/topics/COVID-19/geography_types/Nation/geographies/England/metrics/COVID-19_cases_casesByDay\n",
      "Resolving api.ukhsa-dashboard.data.gov.uk (api.ukhsa-dashboard.data.gov.uk)... 108.138.217.88, 108.138.217.92, 108.138.217.42, ...\n",
      "Connecting to api.ukhsa-dashboard.data.gov.uk (api.ukhsa-dashboard.data.gov.uk)|108.138.217.88|:443... connected.\n",
      "HTTP request sent, awaiting response... 200 OK\n",
      "Length: 2061 (2.0K) [application/json]\n",
      "Saving to: ‘COVID-19_cases_casesByDay’\n",
      "\n",
      "COVID-19_cases_case 100%[===================>]   2.01K  --.-KB/s    in 0s      \n",
      "\n",
      "2024-11-20 22:11:56 (7.67 MB/s) - ‘COVID-19_cases_casesByDay’ saved [2061/2061]\n",
      "\n"
     ]
    }
   ],
   "source": [
    "!wget https://api.ukhsa-dashboard.data.gov.uk/themes/infectious_disease/sub_themes/respiratory/topics/COVID-19/geography_types/Nation/geographies/England/metrics/COVID-19_cases_casesByDay\n"
   ]
  },
  {
   "cell_type": "code",
   "execution_count": 2,
   "id": "f5322838-b1a7-4310-a0f4-9cf92532e940",
   "metadata": {},
   "outputs": [
    {
     "name": "stdout",
     "output_type": "stream",
     "text": [
      "3240\n",
      "[{'theme': 'infectious_disease', 'sub_theme': 'respiratory', 'topic': 'Influenza', 'geography_type': 'Nation', 'geography': 'England', 'geography_code': 'E92000001', 'metric': 'influenza_testing_positivityByWeek', 'metric_group': 'testing', 'stratum': 'default', 'sex': 'all', 'age': '00-04', 'year': 2017, 'month': 7, 'epiweek': 27, 'date': '2017-07-03', 'metric_value': 0.35, 'in_reporting_delay_period': False}, {'theme': 'infectious_disease', 'sub_theme': 'respiratory', 'topic': 'Influenza', 'geography_type': 'Nation', 'geography': 'England', 'geography_code': 'E92000001', 'metric': 'influenza_testing_positivityByWeek', 'metric_group': 'testing', 'stratum': 'default', 'sex': 'all', 'age': '05-14', 'year': 2017, 'month': 7, 'epiweek': 27, 'date': '2017-07-03', 'metric_value': 0.0, 'in_reporting_delay_period': False}, {'theme': 'infectious_disease', 'sub_theme': 'respiratory', 'topic': 'Influenza', 'geography_type': 'Nation', 'geography': 'England', 'geography_code': 'E92000001', 'metric': 'influenza_testing_positivityByWeek', 'metric_group': 'testing', 'stratum': 'default', 'sex': 'all', 'age': 'all', 'year': 2017, 'month': 7, 'epiweek': 27, 'date': '2017-07-03', 'metric_value': 1.71, 'in_reporting_delay_period': False}, {'theme': 'infectious_disease', 'sub_theme': 'respiratory', 'topic': 'Influenza', 'geography_type': 'Nation', 'geography': 'England', 'geography_code': 'E92000001', 'metric': 'influenza_testing_positivityByWeek', 'metric_group': 'testing', 'stratum': 'default', 'sex': 'all', 'age': '65-79', 'year': 2017, 'month': 7, 'epiweek': 27, 'date': '2017-07-03', 'metric_value': 1.76, 'in_reporting_delay_period': False}, {'theme': 'infectious_disease', 'sub_theme': 'respiratory', 'topic': 'Influenza', 'geography_type': 'Nation', 'geography': 'England', 'geography_code': 'E92000001', 'metric': 'influenza_testing_positivityByWeek', 'metric_group': 'testing', 'stratum': 'default', 'sex': 'all', 'age': '15-44', 'year': 2017, 'month': 7, 'epiweek': 27, 'date': '2017-07-03', 'metric_value': 3.59, 'in_reporting_delay_period': False}]\n"
     ]
    }
   ],
   "source": [
    "import requests\n",
    "import time\n",
    "\n",
    "class APIwrapper:\n",
    "    # class variables shared among all instances\n",
    "    _access_point=\"https://api.ukhsa-dashboard.data.gov.uk\"\n",
    "    _last_access=0.0 # time of last api access\n",
    "    \n",
    "    def __init__(self, theme, sub_theme, topic, geography_type, geography, metric):\n",
    "       \n",
    "        # build the path with all the required structure parameters. You do not need to edit this line,\n",
    "        # parameters will be replaced by the actual values when you instantiate an object of the class!\n",
    "        url_path=(f\"/themes/{theme}/sub_themes/{sub_theme}/topics/{topic}/geography_types/\" +\n",
    "                  f\"{geography_type}/geographies/{geography}/metrics/{metric}\")\n",
    "        # our starting API endpoint\n",
    "        self._start_url=APIwrapper._access_point+url_path\n",
    "        self._filters=None\n",
    "        self._page_size=-1\n",
    "        # will contain the number of items\n",
    "        self.count=None\n",
    "\n",
    "    def error_detection(self, url, params):\n",
    "         try:\n",
    "             response = requests.get(url, params=params)\n",
    "             response.raise_for_status()\n",
    "             return response\n",
    "         except requests.exceptions.RequestException as error:\n",
    "             #here we are making use of the RequestException class \n",
    "             print(f\"Unable to access API due to {error}\")\n",
    "             return {\"response\": [], \"next\": None, \"count\": 0}\n",
    "         \n",
    "\n",
    "    def get_page(self, filters={}, page_size=5):\n",
    "     \n",
    "        if page_size>365:\n",
    "            raise ValueError(\"Max supported page size is 365\")\n",
    "        if filters!=self._filters or page_size!=self._page_size:\n",
    "            self._filters=filters\n",
    "            self._page_size=page_size\n",
    "            self._next_url=self._start_url\n",
    "        if self._next_url==None: \n",
    "            return [] # we already fetched the last page\n",
    "\n",
    "        curr_time=time.time() # Unix time: number of seconds since the Epoch\n",
    "        deltat=curr_time-APIwrapper._last_access\n",
    "        if deltat<0.33: # max 3 requests/second\n",
    "            time.sleep(0.33-deltat)\n",
    "        APIwrapper._last_access=curr_time\n",
    "       \n",
    "        parameters={x: y for x, y in filters.items() if y!=None}\n",
    "        parameters['page_size']=page_size\n",
    "      \n",
    "        response = self.error_detection(self._next_url, params=parameters).json()\n",
    "   \n",
    "        self._next_url=response['next']\n",
    "        self.count=response['count']\n",
    "        # data are in the nested 'results' list\n",
    "        return response['results'] \n",
    "\n",
    "    def get_all_pages(self, filters={}, page_size=365):\n",
    "       \n",
    "        data=[] # build up all data here\n",
    "        while True:\n",
    "            # use get_page to do the job, including the pacing\n",
    "            next_page=self.get_page(filters, page_size)\n",
    "            if next_page==[]:\n",
    "                break # we are done\n",
    "            data.extend(next_page)\n",
    "        return data\n",
    "\n",
    "\n",
    "\n",
    "\n",
    "\n",
    "# {\"theme\":\"infectious_disease\",\"sub_theme\":\"respiratory\",\"topic\":\"Influenza\",\"geography_type\":\"Nation\",\n",
    "#  \"geography\":\"England\",\"metric\":\"influenza_testing_positivityByWeek\",\"age\":\"all\",\"stratum\":\"default\",\"sex\":\"all\",\n",
    "#  \"year\":2024,\"date\":\"2024-11-04\",\"metric_value\":\"3.5600\",\"in_reporting_delay_period\":false}\n",
    "\n",
    "structure1={\"theme\": \"infectious_disease\", \n",
    "           \"sub_theme\": \"respiratory\",\n",
    "           \"topic\": \"Influenza\",\n",
    "           \"geography_type\": \"Nation\", \n",
    "           \"geography\": \"England\",\n",
    "           \"metric\": \"influenza_testing_positivityByWeek\" \n",
    "          }\n",
    "\n",
    "# {\"theme\":\"infectious_disease\",\"sub_theme\":\"respiratory\",\"topic\":\"Influenza\",\"geography_type\":\"Nation\",\n",
    "# \"geography\":\"England\",\"metric\":\"influenza_healthcare_ICUHDUadmissionRateByWeek\",\"age\":\"all\",\"stratum\":\"default\",\n",
    "# \"sex\":\"all\",\"year\":2024,\"date\":\"2024-11-04\",\"metric_value\":\"0.0300\",\"in_reporting_delay_period\":false}\n",
    "\n",
    "\n",
    "# {\"theme\":\"infectious_disease\",\"sub_theme\":\"respiratory\",\"topic\":\"Influenza\",\"geography_type\":\"Nation\",\"geography\":\"England\",\n",
    "#  \"metric\":\"influenza_healthcare_ICUHDUadmissionRateByWeek\",\"age\":\"00-04\",\"stratum\":\"default\",\"sex\":\"all\",\n",
    "#  \"year\":2024,\"date\":\"2024-11-04\",\"metric_value\":\"0.0800\",\n",
    "#  \"in_reporting_delay_period\":false},\n",
    "structure2={\n",
    "           \"theme\": \"infectious_disease\", \n",
    "           \"sub_theme\": \"respiratory\",\n",
    "           \"topic\": \"Influenza\",\n",
    "           \"geography_type\": \"Nation\", \n",
    "           \"geography\": \"England\",\n",
    "           \"metric\": \"influenza_healthcare_ICUHDUadmissionRateByWeek\" ,\n",
    "           \"age\": \"00-04\"\n",
    "}\n",
    "\n",
    "\n",
    "\n",
    "\n",
    "\n",
    "api=APIwrapper(**structure1)\n",
    "data=api.get_page() # default size is 5\n",
    "print(api.count)\n",
    "print(data)"
   ]
  },
  {
   "cell_type": "code",
   "execution_count": 3,
   "id": "379bd409-5781-47a8-b585-f927334d8b45",
   "metadata": {},
   "outputs": [
    {
     "name": "stdout",
     "output_type": "stream",
     "text": [
      "Data points expected: 3240\n",
      "Data points retrieved: 3240\n"
     ]
    }
   ],
   "source": [
    "\n",
    "api=APIwrapper(**structure1)\n",
    "positive_cases=api.get_all_pages()\n",
    "api2= APIwrapper(**structure2)\n",
    "admissions=api2.get_all_pages()\n",
    "api3 = APIwrapper(**structure1)\n",
    "positive_cases_by_age=api3.get_all_pages()\n",
    "\n",
    "\n",
    "# print(positive_cases)\n",
    "print(f\"Data points expected: {api.count}\")\n",
    "print(f\"Data points retrieved: {len(positive_cases)}\")"
   ]
  },
  {
   "cell_type": "code",
   "execution_count": 4,
   "id": "bb195037-3c0d-4676-a5f1-6c91544ed68f",
   "metadata": {},
   "outputs": [],
   "source": [
    "import json\n",
    "with open(\"positive_cases.json\", \"wt\") as OUTF:\n",
    "    json.dump(positive_cases, OUTF)\n"
   ]
  },
  {
   "cell_type": "code",
   "execution_count": 5,
   "id": "ea265890-b367-4ae1-9ac3-1dc679b25403",
   "metadata": {},
   "outputs": [],
   "source": [
    "import json\n",
    "with open(\"admissions.json\", \"wt\") as OUTF:\n",
    "    json.dump(admissions, OUTF)"
   ]
  },
  {
   "cell_type": "code",
   "execution_count": null,
   "id": "5ce684ac-e146-41f9-bfa2-32ef461b390a",
   "metadata": {},
   "outputs": [],
   "source": []
  },
  {
   "cell_type": "code",
   "execution_count": null,
   "id": "647e084b-f24c-47ac-9433-aa19c70f5e23",
   "metadata": {},
   "outputs": [],
   "source": []
  },
  {
   "cell_type": "code",
   "execution_count": null,
   "id": "d0bb8312-9043-4956-930b-f4f015a89ab8",
   "metadata": {},
   "outputs": [],
   "source": []
  }
 ],
 "metadata": {
  "kernelspec": {
   "display_name": "Python 3 (ipykernel)",
   "language": "python",
   "name": "python3"
  },
  "language_info": {
   "codemirror_mode": {
    "name": "ipython",
    "version": 3
   },
   "file_extension": ".py",
   "mimetype": "text/x-python",
   "name": "python",
   "nbconvert_exporter": "python",
   "pygments_lexer": "ipython3",
   "version": "3.11.9"
  }
 },
 "nbformat": 4,
 "nbformat_minor": 5
}
