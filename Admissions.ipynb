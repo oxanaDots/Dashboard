{
 "cells": [
  {
   "cell_type": "code",
   "execution_count": 1,
   "id": "0226a9d4-4089-4e3e-90ac-4c91e1f4ea45",
   "metadata": {},
   "outputs": [
    {
     "name": "stdout",
     "output_type": "stream",
     "text": [
      "Requirement already satisfied: import-ipynb in /opt/conda/lib/python3.11/site-packages (0.2)\n",
      "Requirement already satisfied: IPython in /opt/conda/lib/python3.11/site-packages (from import-ipynb) (8.27.0)\n",
      "Requirement already satisfied: nbformat in /opt/conda/lib/python3.11/site-packages (from import-ipynb) (5.10.4)\n",
      "Requirement already satisfied: decorator in /opt/conda/lib/python3.11/site-packages (from IPython->import-ipynb) (5.1.1)\n",
      "Requirement already satisfied: jedi>=0.16 in /opt/conda/lib/python3.11/site-packages (from IPython->import-ipynb) (0.19.1)\n",
      "Requirement already satisfied: matplotlib-inline in /opt/conda/lib/python3.11/site-packages (from IPython->import-ipynb) (0.1.7)\n",
      "Requirement already satisfied: prompt-toolkit<3.1.0,>=3.0.41 in /opt/conda/lib/python3.11/site-packages (from IPython->import-ipynb) (3.0.47)\n",
      "Requirement already satisfied: pygments>=2.4.0 in /opt/conda/lib/python3.11/site-packages (from IPython->import-ipynb) (2.18.0)\n",
      "Requirement already satisfied: stack-data in /opt/conda/lib/python3.11/site-packages (from IPython->import-ipynb) (0.6.2)\n",
      "Requirement already satisfied: traitlets>=5.13.0 in /opt/conda/lib/python3.11/site-packages (from IPython->import-ipynb) (5.14.3)\n",
      "Requirement already satisfied: typing-extensions>=4.6 in /opt/conda/lib/python3.11/site-packages (from IPython->import-ipynb) (4.12.2)\n",
      "Requirement already satisfied: pexpect>4.3 in /opt/conda/lib/python3.11/site-packages (from IPython->import-ipynb) (4.9.0)\n",
      "Requirement already satisfied: fastjsonschema>=2.15 in /opt/conda/lib/python3.11/site-packages (from nbformat->import-ipynb) (2.20.0)\n",
      "Requirement already satisfied: jsonschema>=2.6 in /opt/conda/lib/python3.11/site-packages (from nbformat->import-ipynb) (4.23.0)\n",
      "Requirement already satisfied: jupyter-core!=5.0.*,>=4.12 in /opt/conda/lib/python3.11/site-packages (from nbformat->import-ipynb) (5.7.2)\n",
      "Requirement already satisfied: parso<0.9.0,>=0.8.3 in /opt/conda/lib/python3.11/site-packages (from jedi>=0.16->IPython->import-ipynb) (0.8.4)\n",
      "Requirement already satisfied: attrs>=22.2.0 in /opt/conda/lib/python3.11/site-packages (from jsonschema>=2.6->nbformat->import-ipynb) (24.2.0)\n",
      "Requirement already satisfied: jsonschema-specifications>=2023.03.6 in /opt/conda/lib/python3.11/site-packages (from jsonschema>=2.6->nbformat->import-ipynb) (2023.12.1)\n",
      "Requirement already satisfied: referencing>=0.28.4 in /opt/conda/lib/python3.11/site-packages (from jsonschema>=2.6->nbformat->import-ipynb) (0.35.1)\n",
      "Requirement already satisfied: rpds-py>=0.7.1 in /opt/conda/lib/python3.11/site-packages (from jsonschema>=2.6->nbformat->import-ipynb) (0.20.0)\n",
      "Requirement already satisfied: platformdirs>=2.5 in /opt/conda/lib/python3.11/site-packages (from jupyter-core!=5.0.*,>=4.12->nbformat->import-ipynb) (4.3.2)\n",
      "Requirement already satisfied: ptyprocess>=0.5 in /opt/conda/lib/python3.11/site-packages (from pexpect>4.3->IPython->import-ipynb) (0.7.0)\n",
      "Requirement already satisfied: wcwidth in /opt/conda/lib/python3.11/site-packages (from prompt-toolkit<3.1.0,>=3.0.41->IPython->import-ipynb) (0.2.13)\n",
      "Requirement already satisfied: executing>=1.2.0 in /opt/conda/lib/python3.11/site-packages (from stack-data->IPython->import-ipynb) (2.1.0)\n",
      "Requirement already satisfied: asttokens>=2.1.0 in /opt/conda/lib/python3.11/site-packages (from stack-data->IPython->import-ipynb) (2.4.1)\n",
      "Requirement already satisfied: pure-eval in /opt/conda/lib/python3.11/site-packages (from stack-data->IPython->import-ipynb) (0.2.3)\n",
      "Requirement already satisfied: six>=1.12.0 in /opt/conda/lib/python3.11/site-packages (from asttokens>=2.1.0->stack-data->IPython->import-ipynb) (1.16.0)\n",
      "Note: you may need to restart the kernel to use updated packages.\n"
     ]
    }
   ],
   "source": [
    "pip install import-ipynb"
   ]
  },
  {
   "cell_type": "code",
   "execution_count": 2,
   "id": "5574e3c0-1ab4-490a-9ac7-d4f815c47b7f",
   "metadata": {},
   "outputs": [],
   "source": [
    "import pandas as pd\n",
    "import matplotlib.pyplot as plt\n",
    "import matplotlib.dates as mdates\n",
    "import json\n",
    "\n",
    "\n",
    "# an iPython  \"magic\" that enables the embedding of matplotlib output\n",
    "%matplotlib inline\n",
    "# make figures larger"
   ]
  },
  {
   "cell_type": "code",
   "execution_count": 3,
   "id": "e90f5c23-945e-4991-a26a-f2e818eb6503",
   "metadata": {},
   "outputs": [],
   "source": [
    "with open(\"admissions.json\", \"rt\") as INFILE:\n",
    "    admissions=json.load(INFILE)"
   ]
  },
  {
   "cell_type": "code",
   "execution_count": 4,
   "id": "76fd0e52-6bf4-4578-a9e5-a6f295eb7716",
   "metadata": {},
   "outputs": [],
   "source": [
    "import import_ipynb\n",
    "from utility_functions import define_dates, parse_date, plot_for_year\n",
    "\n",
    "\n",
    "data = define_dates(admissions)\n",
    "dates=list(data.keys())\n",
    "dates.sort()\n",
    "dates\n",
    "\n",
    "# print(data)\n",
    "start = parse_date(dates[0])\n",
    "end = parse_date(dates[-1])\n",
    "index = pd.date_range(start, end, freq=\"MS\")\n",
    "\n",
    "# print(timeseriesdf) "
   ]
  },
  {
   "cell_type": "code",
   "execution_count": 5,
   "id": "a7437fce-bc90-40b9-82d6-96a5c1656392",
   "metadata": {
    "scrolled": true
   },
   "outputs": [
    {
     "name": "stdout",
     "output_type": "stream",
     "text": [
      "            metric_value    age\n",
      "date                           \n",
      "2020-09-28          0.00  55-64\n",
      "2020-10-05          0.00  45-54\n",
      "2020-10-12          0.00  75-84\n",
      "2020-10-19          0.00  15-44\n",
      "2020-10-26          0.00  00-04\n",
      "...                  ...    ...\n",
      "2024-09-30          0.02  05-14\n",
      "2024-10-07          0.02  65-74\n",
      "2024-10-14          0.00  65-74\n",
      "2024-10-21          0.09  05-14\n",
      "2024-10-28          0.08  55-64\n",
      "\n",
      "[186 rows x 2 columns]\n"
     ]
    },
    {
     "data": {
      "application/vnd.jupyter.widget-view+json": {
       "model_id": "c42bcbc009b84436811686f576b7387b",
       "version_major": 2,
       "version_minor": 0
      },
      "text/plain": [
       "interactive(children=(Dropdown(description='Year:', index=4, options=(2020, 2021, 2022, 2023, 2024), value=202…"
      ]
     },
     "metadata": {},
     "output_type": "display_data"
    },
    {
     "data": {
      "text/plain": [
       "<function utility_functions.plot_for_year(year, title, timeseriesdf, marker='o')>"
      ]
     },
     "execution_count": 5,
     "metadata": {},
     "output_type": "execute_result"
    }
   ],
   "source": [
    "import pandas as pd\n",
    "import matplotlib.pyplot as plt\n",
    "import matplotlib.dates as mdates\n",
    "from ipywidgets import interact, widgets\n",
    "\n",
    "df_data = {\n",
    "    parse_date(date): {'metric_value': metrics['influenza_healthcare_ICUHDUadmissionRateByWeek'], 'age': metrics['age']}\n",
    "    for date, metrics in data.items()\n",
    "}\n",
    "\n",
    "timeseriesdf = pd.DataFrame([\n",
    "    {'date': date, 'metric_value': metrics['metric_value'], 'age': metrics['age']}\n",
    "    for date, metrics in df_data.items()\n",
    "    if metrics['age'] != 'all'\n",
    "])\n",
    "\n",
    "\n",
    "\n",
    "timeseriesdf.set_index('date', inplace=True)\n",
    "\n",
    "print(timeseriesdf)\n",
    "\n",
    "\n",
    "\n",
    "years = sorted(timeseriesdf.index.year.unique())\n",
    "interact(plot_for_year, year=widgets.Dropdown(options=years, value=2024, description='Year:'), \n",
    "timeseriesdf=widgets.fixed(timeseriesdf),\n",
    "marker=widgets.fixed(''),\n",
    "title=widgets.fixed(\"Influenza Admission rate by age\"))\n",
    "\n",
    "\n",
    "\n",
    "    "
   ]
  },
  {
   "cell_type": "code",
   "execution_count": null,
   "id": "9cf19db4-694d-46ef-9300-4ad72e23a7f4",
   "metadata": {},
   "outputs": [],
   "source": []
  },
  {
   "cell_type": "code",
   "execution_count": null,
   "id": "1bb38855-d714-4bcf-92ff-7f6c2bbdda64",
   "metadata": {},
   "outputs": [],
   "source": []
  },
  {
   "cell_type": "raw",
   "id": "62858fad-4f76-475c-9e04-fe8716f30cf8",
   "metadata": {},
   "source": []
  },
  {
   "cell_type": "code",
   "execution_count": null,
   "id": "20c113bd-cc59-4aae-bdee-7f9b6f29bb2d",
   "metadata": {},
   "outputs": [],
   "source": []
  }
 ],
 "metadata": {
  "kernelspec": {
   "display_name": "Python 3 (ipykernel)",
   "language": "python",
   "name": "python3"
  },
  "language_info": {
   "codemirror_mode": {
    "name": "ipython",
    "version": 3
   },
   "file_extension": ".py",
   "mimetype": "text/x-python",
   "name": "python",
   "nbconvert_exporter": "python",
   "pygments_lexer": "ipython3",
   "version": "3.11.9"
  }
 },
 "nbformat": 4,
 "nbformat_minor": 5
}
